{
 "cells": [
  {
   "cell_type": "markdown",
   "metadata": {
    "id": "C_PxZsyMAWED"
   },
   "source": [
    "# Videogames Sales\n",
    "\n",
    "My project is to analyze the most sold videogames over the course of history. I want to know some relevant data, which games are the most sold and some questions about Genre and Platform. I want to thank Jovian for teaching me valuable knowledge that I'm sure I will use in my job. [Course link](http://zerotopandas.com)"
   ]
  },
  {
   "cell_type": "code",
   "execution_count": 63,
   "metadata": {
    "executionInfo": {
     "elapsed": 4418,
     "status": "ok",
     "timestamp": 1601655866565,
     "user": {
      "displayName": "Alejandro Osorio Trujillo",
      "photoUrl": "https://lh3.googleusercontent.com/a-/AOh14GiPqGgNrS3efyTrNqPfi_AxVdgwDkM84wfhYCXuMw=s64",
      "userId": "13505825192954560646"
     },
     "user_tz": 300
    },
    "id": "_qDmDlxYAWED"
   },
   "outputs": [],
   "source": [
    "project_name = \"videogames-data-course-project\" # change this"
   ]
  },
  {
   "cell_type": "code",
   "execution_count": 62,
   "metadata": {
    "colab": {
     "base_uri": "https://localhost:8080/",
     "height": 51
    },
    "executionInfo": {
     "elapsed": 5714,
     "status": "ok",
     "timestamp": 1601655866564,
     "user": {
      "displayName": "Alejandro Osorio Trujillo",
      "photoUrl": "https://lh3.googleusercontent.com/a-/AOh14GiPqGgNrS3efyTrNqPfi_AxVdgwDkM84wfhYCXuMw=s64",
      "userId": "13505825192954560646"
     },
     "user_tz": 300
    },
    "id": "NsopPAAAAWEG",
    "outputId": "136bdca4-3262-4ff9-dd1c-7c3d22dd2834"
   },
   "outputs": [
    {
     "name": "stdout",
     "output_type": "stream",
     "text": [
      "\u001b[?25l\r",
      "\u001b[K     |█████                           | 10kB 22.9MB/s eta 0:00:01\r",
      "\u001b[K     |██████████                      | 20kB 1.7MB/s eta 0:00:01\r",
      "\u001b[K     |███████████████                 | 30kB 2.2MB/s eta 0:00:01\r",
      "\u001b[K     |████████████████████            | 40kB 2.5MB/s eta 0:00:01\r",
      "\u001b[K     |█████████████████████████       | 51kB 2.0MB/s eta 0:00:01\r",
      "\u001b[K     |██████████████████████████████  | 61kB 2.2MB/s eta 0:00:01\r",
      "\u001b[K     |████████████████████████████████| 71kB 1.6MB/s \n",
      "\u001b[?25h  Building wheel for uuid (setup.py) ... \u001b[?25l\u001b[?25hdone\n"
     ]
    }
   ],
   "source": [
    "!pip install jovian --upgrade -q"
   ]
  },
  {
   "cell_type": "code",
   "execution_count": 64,
   "metadata": {
    "executionInfo": {
     "elapsed": 764,
     "status": "ok",
     "timestamp": 1601655872303,
     "user": {
      "displayName": "Alejandro Osorio Trujillo",
      "photoUrl": "https://lh3.googleusercontent.com/a-/AOh14GiPqGgNrS3efyTrNqPfi_AxVdgwDkM84wfhYCXuMw=s64",
      "userId": "13505825192954560646"
     },
     "user_tz": 300
    },
    "id": "0uP9dWbqAWEI"
   },
   "outputs": [],
   "source": [
    "import jovian"
   ]
  },
  {
   "cell_type": "code",
   "execution_count": 92,
   "metadata": {
    "colab": {
     "base_uri": "https://localhost:8080/",
     "height": 86
    },
    "executionInfo": {
     "elapsed": 2851,
     "status": "ok",
     "timestamp": 1601658237705,
     "user": {
      "displayName": "Alejandro Osorio Trujillo",
      "photoUrl": "https://lh3.googleusercontent.com/a-/AOh14GiPqGgNrS3efyTrNqPfi_AxVdgwDkM84wfhYCXuMw=s64",
      "userId": "13505825192954560646"
     },
     "user_tz": 300
    },
    "id": "HST7IEtgAWEK",
    "outputId": "8854a2d4-05b9-47cf-c80b-7e55f09fa329"
   },
   "outputs": [
    {
     "name": "stdout",
     "output_type": "stream",
     "text": [
      "[jovian] Detected Colab notebook...\u001b[0m\n",
      "[jovian] Uploading colab notebook to Jovian...\u001b[0m\n",
      "[jovian] Committed successfully! https://jovian.ml/alejoso76/videogames-data-course-project\u001b[0m\n"
     ]
    },
    {
     "data": {
      "application/vnd.google.colaboratory.intrinsic+json": {
       "type": "string"
      },
      "text/plain": [
       "'https://jovian.ml/alejoso76/videogames-data-course-project'"
      ]
     },
     "execution_count": 92,
     "metadata": {
      "tags": []
     },
     "output_type": "execute_result"
    }
   ],
   "source": [
    "jovian.commit(project=project_name)"
   ]
  },
  {
   "cell_type": "markdown",
   "metadata": {
    "id": "RPrVyKQqAWEN"
   },
   "source": [
    "## Data Preparation and Cleaning\n",
    "\n",
    "We'll download this file manually and the loading it into our notebook because the downloaded file is in .zip format (It is easier to do it like this). The file will be named: **vgsales.csv**. You can get it from [here](https://www.kaggle.com/gregorut/videogamesales/discussion/163324), then unzip it and load it on your workspace."
   ]
  },
  {
   "cell_type": "markdown",
   "metadata": {
    "id": "IsOm2jlAAWEO"
   },
   "source": [
    "The next step is to load the file into a Pandas dataframe."
   ]
  },
  {
   "cell_type": "code",
   "execution_count": 1,
   "metadata": {
    "executionInfo": {
     "elapsed": 1533,
     "status": "ok",
     "timestamp": 1601653872573,
     "user": {
      "displayName": "Alejandro Osorio Trujillo",
      "photoUrl": "https://lh3.googleusercontent.com/a-/AOh14GiPqGgNrS3efyTrNqPfi_AxVdgwDkM84wfhYCXuMw=s64",
      "userId": "13505825192954560646"
     },
     "user_tz": 300
    },
    "id": "tLHcnESUAWEO"
   },
   "outputs": [],
   "source": [
    "import pandas as pd"
   ]
  },
  {
   "cell_type": "code",
   "execution_count": 2,
   "metadata": {
    "executionInfo": {
     "elapsed": 768,
     "status": "ok",
     "timestamp": 1601653873921,
     "user": {
      "displayName": "Alejandro Osorio Trujillo",
      "photoUrl": "https://lh3.googleusercontent.com/a-/AOh14GiPqGgNrS3efyTrNqPfi_AxVdgwDkM84wfhYCXuMw=s64",
      "userId": "13505825192954560646"
     },
     "user_tz": 300
    },
    "id": "4e5mYai6AWER"
   },
   "outputs": [],
   "source": [
    "videogames_sales_df = pd.read_csv('vgsales.csv')"
   ]
  },
  {
   "cell_type": "markdown",
   "metadata": {
    "id": "RVFmqKoyAWET"
   },
   "source": [
    "Here is the basic structure of the dataset."
   ]
  },
  {
   "cell_type": "code",
   "execution_count": 3,
   "metadata": {
    "colab": {
     "base_uri": "https://localhost:8080/",
     "height": 419
    },
    "executionInfo": {
     "elapsed": 878,
     "status": "ok",
     "timestamp": 1601653877065,
     "user": {
      "displayName": "Alejandro Osorio Trujillo",
      "photoUrl": "https://lh3.googleusercontent.com/a-/AOh14GiPqGgNrS3efyTrNqPfi_AxVdgwDkM84wfhYCXuMw=s64",
      "userId": "13505825192954560646"
     },
     "user_tz": 300
    },
    "id": "TeggStGKAWET",
    "outputId": "3db44109-3c05-43d6-8d25-61e8134ea786"
   },
   "outputs": [
    {
     "data": {
      "text/html": [
       "<div>\n",
       "<style scoped>\n",
       "    .dataframe tbody tr th:only-of-type {\n",
       "        vertical-align: middle;\n",
       "    }\n",
       "\n",
       "    .dataframe tbody tr th {\n",
       "        vertical-align: top;\n",
       "    }\n",
       "\n",
       "    .dataframe thead th {\n",
       "        text-align: right;\n",
       "    }\n",
       "</style>\n",
       "<table border=\"1\" class=\"dataframe\">\n",
       "  <thead>\n",
       "    <tr style=\"text-align: right;\">\n",
       "      <th></th>\n",
       "      <th>Rank</th>\n",
       "      <th>Name</th>\n",
       "      <th>Platform</th>\n",
       "      <th>Year</th>\n",
       "      <th>Genre</th>\n",
       "      <th>Publisher</th>\n",
       "      <th>NA_Sales</th>\n",
       "      <th>EU_Sales</th>\n",
       "      <th>JP_Sales</th>\n",
       "      <th>Other_Sales</th>\n",
       "      <th>Global_Sales</th>\n",
       "    </tr>\n",
       "  </thead>\n",
       "  <tbody>\n",
       "    <tr>\n",
       "      <th>0</th>\n",
       "      <td>1</td>\n",
       "      <td>Wii Sports</td>\n",
       "      <td>Wii</td>\n",
       "      <td>2006.0</td>\n",
       "      <td>Sports</td>\n",
       "      <td>Nintendo</td>\n",
       "      <td>41.49</td>\n",
       "      <td>29.02</td>\n",
       "      <td>3.77</td>\n",
       "      <td>8.46</td>\n",
       "      <td>82.74</td>\n",
       "    </tr>\n",
       "    <tr>\n",
       "      <th>1</th>\n",
       "      <td>2</td>\n",
       "      <td>Super Mario Bros.</td>\n",
       "      <td>NES</td>\n",
       "      <td>1985.0</td>\n",
       "      <td>Platform</td>\n",
       "      <td>Nintendo</td>\n",
       "      <td>29.08</td>\n",
       "      <td>3.58</td>\n",
       "      <td>6.81</td>\n",
       "      <td>0.77</td>\n",
       "      <td>40.24</td>\n",
       "    </tr>\n",
       "    <tr>\n",
       "      <th>2</th>\n",
       "      <td>3</td>\n",
       "      <td>Mario Kart Wii</td>\n",
       "      <td>Wii</td>\n",
       "      <td>2008.0</td>\n",
       "      <td>Racing</td>\n",
       "      <td>Nintendo</td>\n",
       "      <td>15.85</td>\n",
       "      <td>12.88</td>\n",
       "      <td>3.79</td>\n",
       "      <td>3.31</td>\n",
       "      <td>35.82</td>\n",
       "    </tr>\n",
       "    <tr>\n",
       "      <th>3</th>\n",
       "      <td>4</td>\n",
       "      <td>Wii Sports Resort</td>\n",
       "      <td>Wii</td>\n",
       "      <td>2009.0</td>\n",
       "      <td>Sports</td>\n",
       "      <td>Nintendo</td>\n",
       "      <td>15.75</td>\n",
       "      <td>11.01</td>\n",
       "      <td>3.28</td>\n",
       "      <td>2.96</td>\n",
       "      <td>33.00</td>\n",
       "    </tr>\n",
       "    <tr>\n",
       "      <th>4</th>\n",
       "      <td>5</td>\n",
       "      <td>Pokemon Red/Pokemon Blue</td>\n",
       "      <td>GB</td>\n",
       "      <td>1996.0</td>\n",
       "      <td>Role-Playing</td>\n",
       "      <td>Nintendo</td>\n",
       "      <td>11.27</td>\n",
       "      <td>8.89</td>\n",
       "      <td>10.22</td>\n",
       "      <td>1.00</td>\n",
       "      <td>31.37</td>\n",
       "    </tr>\n",
       "    <tr>\n",
       "      <th>...</th>\n",
       "      <td>...</td>\n",
       "      <td>...</td>\n",
       "      <td>...</td>\n",
       "      <td>...</td>\n",
       "      <td>...</td>\n",
       "      <td>...</td>\n",
       "      <td>...</td>\n",
       "      <td>...</td>\n",
       "      <td>...</td>\n",
       "      <td>...</td>\n",
       "      <td>...</td>\n",
       "    </tr>\n",
       "    <tr>\n",
       "      <th>16593</th>\n",
       "      <td>16596</td>\n",
       "      <td>Woody Woodpecker in Crazy Castle 5</td>\n",
       "      <td>GBA</td>\n",
       "      <td>2002.0</td>\n",
       "      <td>Platform</td>\n",
       "      <td>Kemco</td>\n",
       "      <td>0.01</td>\n",
       "      <td>0.00</td>\n",
       "      <td>0.00</td>\n",
       "      <td>0.00</td>\n",
       "      <td>0.01</td>\n",
       "    </tr>\n",
       "    <tr>\n",
       "      <th>16594</th>\n",
       "      <td>16597</td>\n",
       "      <td>Men in Black II: Alien Escape</td>\n",
       "      <td>GC</td>\n",
       "      <td>2003.0</td>\n",
       "      <td>Shooter</td>\n",
       "      <td>Infogrames</td>\n",
       "      <td>0.01</td>\n",
       "      <td>0.00</td>\n",
       "      <td>0.00</td>\n",
       "      <td>0.00</td>\n",
       "      <td>0.01</td>\n",
       "    </tr>\n",
       "    <tr>\n",
       "      <th>16595</th>\n",
       "      <td>16598</td>\n",
       "      <td>SCORE International Baja 1000: The Official Game</td>\n",
       "      <td>PS2</td>\n",
       "      <td>2008.0</td>\n",
       "      <td>Racing</td>\n",
       "      <td>Activision</td>\n",
       "      <td>0.00</td>\n",
       "      <td>0.00</td>\n",
       "      <td>0.00</td>\n",
       "      <td>0.00</td>\n",
       "      <td>0.01</td>\n",
       "    </tr>\n",
       "    <tr>\n",
       "      <th>16596</th>\n",
       "      <td>16599</td>\n",
       "      <td>Know How 2</td>\n",
       "      <td>DS</td>\n",
       "      <td>2010.0</td>\n",
       "      <td>Puzzle</td>\n",
       "      <td>7G//AMES</td>\n",
       "      <td>0.00</td>\n",
       "      <td>0.01</td>\n",
       "      <td>0.00</td>\n",
       "      <td>0.00</td>\n",
       "      <td>0.01</td>\n",
       "    </tr>\n",
       "    <tr>\n",
       "      <th>16597</th>\n",
       "      <td>16600</td>\n",
       "      <td>Spirits &amp; Spells</td>\n",
       "      <td>GBA</td>\n",
       "      <td>2003.0</td>\n",
       "      <td>Platform</td>\n",
       "      <td>Wanadoo</td>\n",
       "      <td>0.01</td>\n",
       "      <td>0.00</td>\n",
       "      <td>0.00</td>\n",
       "      <td>0.00</td>\n",
       "      <td>0.01</td>\n",
       "    </tr>\n",
       "  </tbody>\n",
       "</table>\n",
       "<p>16598 rows × 11 columns</p>\n",
       "</div>"
      ],
      "text/plain": [
       "        Rank  ... Global_Sales\n",
       "0          1  ...        82.74\n",
       "1          2  ...        40.24\n",
       "2          3  ...        35.82\n",
       "3          4  ...        33.00\n",
       "4          5  ...        31.37\n",
       "...      ...  ...          ...\n",
       "16593  16596  ...         0.01\n",
       "16594  16597  ...         0.01\n",
       "16595  16598  ...         0.01\n",
       "16596  16599  ...         0.01\n",
       "16597  16600  ...         0.01\n",
       "\n",
       "[16598 rows x 11 columns]"
      ]
     },
     "execution_count": 3,
     "metadata": {
      "tags": []
     },
     "output_type": "execute_result"
    }
   ],
   "source": [
    "videogames_sales_df"
   ]
  },
  {
   "cell_type": "markdown",
   "metadata": {
    "id": "GfFTNqt8AWEV"
   },
   "source": [
    "Here's what we can tell by looking at the data frame:\n",
    "\n",
    "The file provides a list of video games with sales greater than 100,000 copies.\n",
    "Fields include:\n",
    "\n",
    "* Rank - Ranking of overall sales\n",
    "\n",
    "* Name - The games name\n",
    "\n",
    "* Platform - Platform of the games release (i.e. PC,PS4, etc.)\n",
    "\n",
    "* Year - Year of the game's release\n",
    "\n",
    "* Genre - Genre of the game\n",
    "\n",
    "* Publisher - Publisher of the game\n",
    "\n",
    "* NA_Sales - Sales in North America (in millions)\n",
    "\n",
    "* EU_Sales - Sales in Europe (in millions)\n",
    "\n",
    "* JP_Sales - Sales in Japan (in millions)\n",
    "\n",
    "* Other_Sales - Sales in the rest of the world (in millions)\n",
    "\n",
    "* Global_Sales - Total worldwide sales.\n",
    "\n",
    "We can also view some basic information about the data frame using the .info method."
   ]
  },
  {
   "cell_type": "code",
   "execution_count": null,
   "metadata": {
    "id": "pFsXPZUrAWEW",
    "outputId": "732d0469-1a2a-4b46-8636-04c8daf101ad"
   },
   "outputs": [
    {
     "name": "stdout",
     "output_type": "stream",
     "text": [
      "<class 'pandas.core.frame.DataFrame'>\n",
      "RangeIndex: 16598 entries, 0 to 16597\n",
      "Data columns (total 11 columns):\n",
      " #   Column        Non-Null Count  Dtype  \n",
      "---  ------        --------------  -----  \n",
      " 0   Rank          16598 non-null  int64  \n",
      " 1   Name          16598 non-null  object \n",
      " 2   Platform      16598 non-null  object \n",
      " 3   Year          16327 non-null  float64\n",
      " 4   Genre         16598 non-null  object \n",
      " 5   Publisher     16540 non-null  object \n",
      " 6   NA_Sales      16598 non-null  float64\n",
      " 7   EU_Sales      16598 non-null  float64\n",
      " 8   JP_Sales      16598 non-null  float64\n",
      " 9   Other_Sales   16598 non-null  float64\n",
      " 10  Global_Sales  16598 non-null  float64\n",
      "dtypes: float64(6), int64(1), object(4)\n",
      "memory usage: 1.4+ MB\n"
     ]
    }
   ],
   "source": [
    "videogames_sales_df.info()"
   ]
  },
  {
   "cell_type": "code",
   "execution_count": null,
   "metadata": {
    "id": "RVQTSgWCAWEY"
   },
   "outputs": [],
   "source": [
    "import jovian"
   ]
  },
  {
   "cell_type": "code",
   "execution_count": null,
   "metadata": {
    "id": "A_e1seGDAWEa",
    "outputId": "9f481421-d0c2-46d6-8e59-468f7068cb9e"
   },
   "outputs": [
    {
     "data": {
      "application/javascript": [
       "window.require && require([\"base/js/namespace\"],function(Jupyter){Jupyter.notebook.save_checkpoint()})"
      ],
      "text/plain": [
       "<IPython.core.display.Javascript object>"
      ]
     },
     "metadata": {
      "tags": []
     },
     "output_type": "display_data"
    },
    {
     "name": "stdout",
     "output_type": "stream",
     "text": [
      "[jovian] Attempting to save notebook..\u001b[0m\n",
      "[jovian] Updating notebook \"alejoso76/videogames-data-course-project\" on https://jovian.ml/\u001b[0m\n",
      "[jovian] Uploading notebook..\u001b[0m\n",
      "[jovian] Capturing environment..\u001b[0m\n",
      "[jovian] Committed successfully! https://jovian.ml/alejoso76/videogames-data-course-project\u001b[0m\n"
     ]
    },
    {
     "data": {
      "text/plain": [
       "'https://jovian.ml/alejoso76/videogames-data-course-project'"
      ]
     },
     "execution_count": 11,
     "metadata": {
      "tags": []
     },
     "output_type": "execute_result"
    }
   ],
   "source": [
    "jovian.commit()"
   ]
  },
  {
   "cell_type": "markdown",
   "metadata": {
    "id": "zPvg-ldCAWEc"
   },
   "source": [
    "All the columns names are presented below:"
   ]
  },
  {
   "cell_type": "code",
   "execution_count": null,
   "metadata": {
    "id": "RBmrQjuRAWEd",
    "outputId": "a63712f0-abdd-4070-f11a-42e6aebc2da7"
   },
   "outputs": [
    {
     "data": {
      "text/plain": [
       "Index(['Rank', 'Name', 'Platform', 'Year', 'Genre', 'Publisher', 'NA_Sales',\n",
       "       'EU_Sales', 'JP_Sales', 'Other_Sales', 'Global_Sales'],\n",
       "      dtype='object')"
      ]
     },
     "execution_count": 14,
     "metadata": {
      "tags": []
     },
     "output_type": "execute_result"
    }
   ],
   "source": [
    "videogames_sales_df.columns"
   ]
  },
  {
   "cell_type": "markdown",
   "metadata": {
    "id": "ROXCs8DlAWEf"
   },
   "source": [
    "As per the project requirements for rows and columns..."
   ]
  },
  {
   "cell_type": "code",
   "execution_count": null,
   "metadata": {
    "id": "DA0YJfCoAWEg",
    "outputId": "4d4f459d-7102-4aef-9239-37aefaa4bcc0"
   },
   "outputs": [
    {
     "data": {
      "text/plain": [
       "(16598, 11)"
      ]
     },
     "execution_count": 13,
     "metadata": {
      "tags": []
     },
     "output_type": "execute_result"
    }
   ],
   "source": [
    "videogames_sales_df.shape"
   ]
  },
  {
   "cell_type": "markdown",
   "metadata": {
    "id": "cTLQHBHqAWEi"
   },
   "source": [
    "We completely nailed that! :)"
   ]
  },
  {
   "cell_type": "markdown",
   "metadata": {
    "id": "2Dw3Okv6AWEi"
   },
   "source": [
    "### Nan Colums\n",
    "Now we have to check if we have some missing values."
   ]
  },
  {
   "cell_type": "code",
   "execution_count": null,
   "metadata": {
    "id": "6zEH27CYAWEj",
    "outputId": "833dfe04-1b50-4532-9a6d-de59eafacbe6"
   },
   "outputs": [
    {
     "data": {
      "text/plain": [
       "0"
      ]
     },
     "execution_count": 57,
     "metadata": {
      "tags": []
     },
     "output_type": "execute_result"
    }
   ],
   "source": [
    "videogames_sales_df.Rank.isna().sum()"
   ]
  },
  {
   "cell_type": "code",
   "execution_count": null,
   "metadata": {
    "id": "bLydD2COAWEl",
    "outputId": "33b33de3-b289-49e0-d0ae-81127380a53b"
   },
   "outputs": [
    {
     "data": {
      "text/plain": [
       "0"
      ]
     },
     "execution_count": 58,
     "metadata": {
      "tags": []
     },
     "output_type": "execute_result"
    }
   ],
   "source": [
    "videogames_sales_df.Name.isna().sum()"
   ]
  },
  {
   "cell_type": "code",
   "execution_count": null,
   "metadata": {
    "id": "E5E6WmwWAWEn",
    "outputId": "98cb27a3-3e2e-41d8-e873-485a0af8a0b5"
   },
   "outputs": [
    {
     "data": {
      "text/plain": [
       "0"
      ]
     },
     "execution_count": 59,
     "metadata": {
      "tags": []
     },
     "output_type": "execute_result"
    }
   ],
   "source": [
    "videogames_sales_df.Platform.isna().sum()"
   ]
  },
  {
   "cell_type": "code",
   "execution_count": null,
   "metadata": {
    "id": "g5UMTCiuAWEq",
    "outputId": "f4d742fe-e63f-4c20-efc1-03f06ac10a93"
   },
   "outputs": [
    {
     "data": {
      "text/plain": [
       "271"
      ]
     },
     "execution_count": 60,
     "metadata": {
      "tags": []
     },
     "output_type": "execute_result"
    }
   ],
   "source": [
    "videogames_sales_df.Year.isna().sum()"
   ]
  },
  {
   "cell_type": "code",
   "execution_count": null,
   "metadata": {
    "id": "zCIrRRX5AWEs",
    "outputId": "b000e2ce-c054-474d-d83d-0158bc57858c"
   },
   "outputs": [
    {
     "data": {
      "text/plain": [
       "0"
      ]
     },
     "execution_count": 61,
     "metadata": {
      "tags": []
     },
     "output_type": "execute_result"
    }
   ],
   "source": [
    "videogames_sales_df.Genre.isna().sum()"
   ]
  },
  {
   "cell_type": "code",
   "execution_count": null,
   "metadata": {
    "id": "ra6MUtgTAWEu",
    "outputId": "cf2249b4-ce57-46cb-ae1f-8db70ed605da"
   },
   "outputs": [
    {
     "data": {
      "text/plain": [
       "58"
      ]
     },
     "execution_count": 62,
     "metadata": {
      "tags": []
     },
     "output_type": "execute_result"
    }
   ],
   "source": [
    "videogames_sales_df.Publisher.isna().sum()"
   ]
  },
  {
   "cell_type": "code",
   "execution_count": null,
   "metadata": {
    "id": "GCpi1JF-AWEw",
    "outputId": "c589ed4b-c253-41b3-b4c7-735a8fd088d9"
   },
   "outputs": [
    {
     "data": {
      "text/plain": [
       "0"
      ]
     },
     "execution_count": 63,
     "metadata": {
      "tags": []
     },
     "output_type": "execute_result"
    }
   ],
   "source": [
    "videogames_sales_df.NA_Sales.isna().sum()"
   ]
  },
  {
   "cell_type": "code",
   "execution_count": null,
   "metadata": {
    "id": "WlgiJnD4AWEy",
    "outputId": "30c30881-c241-4b38-b10a-8021feb64807"
   },
   "outputs": [
    {
     "data": {
      "text/plain": [
       "0"
      ]
     },
     "execution_count": 64,
     "metadata": {
      "tags": []
     },
     "output_type": "execute_result"
    }
   ],
   "source": [
    "videogames_sales_df.EU_Sales.isna().sum()"
   ]
  },
  {
   "cell_type": "code",
   "execution_count": null,
   "metadata": {
    "id": "lWBcNcIHAWE0",
    "outputId": "86744a5e-8f4b-4ff0-8a9c-3e59219d43b8"
   },
   "outputs": [
    {
     "data": {
      "text/plain": [
       "0"
      ]
     },
     "execution_count": 66,
     "metadata": {
      "tags": []
     },
     "output_type": "execute_result"
    }
   ],
   "source": [
    "videogames_sales_df.JP_Sales.isna().sum()"
   ]
  },
  {
   "cell_type": "code",
   "execution_count": null,
   "metadata": {
    "id": "oQzzlH8tAWE2",
    "outputId": "0454227c-0189-4e3a-86c7-394411f81dbc"
   },
   "outputs": [
    {
     "data": {
      "text/plain": [
       "0"
      ]
     },
     "execution_count": 68,
     "metadata": {
      "tags": []
     },
     "output_type": "execute_result"
    }
   ],
   "source": [
    "videogames_sales_df.Other_Sales.isna().sum()"
   ]
  },
  {
   "cell_type": "code",
   "execution_count": null,
   "metadata": {
    "id": "L47GOkIMAWE4",
    "outputId": "b545521b-3eed-4f0c-d13c-30d2e7fe5efe"
   },
   "outputs": [
    {
     "data": {
      "text/plain": [
       "0"
      ]
     },
     "execution_count": 69,
     "metadata": {
      "tags": []
     },
     "output_type": "execute_result"
    }
   ],
   "source": [
    "videogames_sales_df.Global_Sales.isna().sum()"
   ]
  },
  {
   "cell_type": "markdown",
   "metadata": {
    "id": "icwBOeldAWE7"
   },
   "source": [
    "Meaning that in the Year field we have 271 Nan values and in the Publisher field we have 58 of those. \n",
    "Now we have to take care of them."
   ]
  },
  {
   "cell_type": "code",
   "execution_count": null,
   "metadata": {
    "id": "TctlM-okAWE7"
   },
   "outputs": [],
   "source": [
    "import jovian"
   ]
  },
  {
   "cell_type": "code",
   "execution_count": null,
   "metadata": {
    "id": "0yMBWHbeAWE9",
    "outputId": "68fb142f-7b56-48af-c3e0-e1c5c29aba3e"
   },
   "outputs": [
    {
     "data": {
      "application/javascript": [
       "window.require && require([\"base/js/namespace\"],function(Jupyter){Jupyter.notebook.save_checkpoint()})"
      ],
      "text/plain": [
       "<IPython.core.display.Javascript object>"
      ]
     },
     "metadata": {
      "tags": []
     },
     "output_type": "display_data"
    },
    {
     "name": "stdout",
     "output_type": "stream",
     "text": [
      "[jovian] Attempting to save notebook..\u001b[0m\n",
      "[jovian] Updating notebook \"alejoso76/videogames-data-course-project\" on https://jovian.ml/\u001b[0m\n",
      "[jovian] Uploading notebook..\u001b[0m\n",
      "[jovian] Capturing environment..\u001b[0m\n",
      "[jovian] Committed successfully! https://jovian.ml/alejoso76/videogames-data-course-project\u001b[0m\n"
     ]
    },
    {
     "data": {
      "text/plain": [
       "'https://jovian.ml/alejoso76/videogames-data-course-project'"
      ]
     },
     "execution_count": 136,
     "metadata": {
      "tags": []
     },
     "output_type": "execute_result"
    }
   ],
   "source": [
    "jovian.commit(project=project_name)"
   ]
  },
  {
   "cell_type": "markdown",
   "metadata": {
    "id": "0_UvOFl-AWE_"
   },
   "source": [
    "### Cleaning those Nan values\n",
    "For my analysis, I will only need the top 150 games. In the top 150 games ordered by sales there are not Nan nor wrong values."
   ]
  },
  {
   "cell_type": "code",
   "execution_count": 7,
   "metadata": {
    "executionInfo": {
     "elapsed": 764,
     "status": "ok",
     "timestamp": 1601654018951,
     "user": {
      "displayName": "Alejandro Osorio Trujillo",
      "photoUrl": "https://lh3.googleusercontent.com/a-/AOh14GiPqGgNrS3efyTrNqPfi_AxVdgwDkM84wfhYCXuMw=s64",
      "userId": "13505825192954560646"
     },
     "user_tz": 300
    },
    "id": "q0bKNTPDAWE_"
   },
   "outputs": [],
   "source": [
    "top_150_df = videogames_sales_df.head(150)"
   ]
  },
  {
   "cell_type": "code",
   "execution_count": null,
   "metadata": {
    "id": "fg9HhN4OAWFB",
    "outputId": "fde1c2a6-9d2c-484a-fba8-d0f584ad6b33"
   },
   "outputs": [
    {
     "data": {
      "text/html": [
       "<div>\n",
       "<style scoped>\n",
       "    .dataframe tbody tr th:only-of-type {\n",
       "        vertical-align: middle;\n",
       "    }\n",
       "\n",
       "    .dataframe tbody tr th {\n",
       "        vertical-align: top;\n",
       "    }\n",
       "\n",
       "    .dataframe thead th {\n",
       "        text-align: right;\n",
       "    }\n",
       "</style>\n",
       "<table border=\"1\" class=\"dataframe\">\n",
       "  <thead>\n",
       "    <tr style=\"text-align: right;\">\n",
       "      <th></th>\n",
       "      <th>Rank</th>\n",
       "      <th>Name</th>\n",
       "      <th>Platform</th>\n",
       "      <th>Year</th>\n",
       "      <th>Genre</th>\n",
       "      <th>Publisher</th>\n",
       "      <th>NA_Sales</th>\n",
       "      <th>EU_Sales</th>\n",
       "      <th>JP_Sales</th>\n",
       "      <th>Other_Sales</th>\n",
       "      <th>Global_Sales</th>\n",
       "    </tr>\n",
       "  </thead>\n",
       "  <tbody>\n",
       "    <tr>\n",
       "      <th>0</th>\n",
       "      <td>1</td>\n",
       "      <td>Wii Sports</td>\n",
       "      <td>Wii</td>\n",
       "      <td>2006.0</td>\n",
       "      <td>Sports</td>\n",
       "      <td>Nintendo</td>\n",
       "      <td>41.49</td>\n",
       "      <td>29.02</td>\n",
       "      <td>3.77</td>\n",
       "      <td>8.46</td>\n",
       "      <td>82.74</td>\n",
       "    </tr>\n",
       "    <tr>\n",
       "      <th>1</th>\n",
       "      <td>2</td>\n",
       "      <td>Super Mario Bros.</td>\n",
       "      <td>NES</td>\n",
       "      <td>1985.0</td>\n",
       "      <td>Platform</td>\n",
       "      <td>Nintendo</td>\n",
       "      <td>29.08</td>\n",
       "      <td>3.58</td>\n",
       "      <td>6.81</td>\n",
       "      <td>0.77</td>\n",
       "      <td>40.24</td>\n",
       "    </tr>\n",
       "    <tr>\n",
       "      <th>2</th>\n",
       "      <td>3</td>\n",
       "      <td>Mario Kart Wii</td>\n",
       "      <td>Wii</td>\n",
       "      <td>2008.0</td>\n",
       "      <td>Racing</td>\n",
       "      <td>Nintendo</td>\n",
       "      <td>15.85</td>\n",
       "      <td>12.88</td>\n",
       "      <td>3.79</td>\n",
       "      <td>3.31</td>\n",
       "      <td>35.82</td>\n",
       "    </tr>\n",
       "    <tr>\n",
       "      <th>3</th>\n",
       "      <td>4</td>\n",
       "      <td>Wii Sports Resort</td>\n",
       "      <td>Wii</td>\n",
       "      <td>2009.0</td>\n",
       "      <td>Sports</td>\n",
       "      <td>Nintendo</td>\n",
       "      <td>15.75</td>\n",
       "      <td>11.01</td>\n",
       "      <td>3.28</td>\n",
       "      <td>2.96</td>\n",
       "      <td>33.00</td>\n",
       "    </tr>\n",
       "    <tr>\n",
       "      <th>4</th>\n",
       "      <td>5</td>\n",
       "      <td>Pokemon Red/Pokemon Blue</td>\n",
       "      <td>GB</td>\n",
       "      <td>1996.0</td>\n",
       "      <td>Role-Playing</td>\n",
       "      <td>Nintendo</td>\n",
       "      <td>11.27</td>\n",
       "      <td>8.89</td>\n",
       "      <td>10.22</td>\n",
       "      <td>1.00</td>\n",
       "      <td>31.37</td>\n",
       "    </tr>\n",
       "    <tr>\n",
       "      <th>...</th>\n",
       "      <td>...</td>\n",
       "      <td>...</td>\n",
       "      <td>...</td>\n",
       "      <td>...</td>\n",
       "      <td>...</td>\n",
       "      <td>...</td>\n",
       "      <td>...</td>\n",
       "      <td>...</td>\n",
       "      <td>...</td>\n",
       "      <td>...</td>\n",
       "      <td>...</td>\n",
       "    </tr>\n",
       "    <tr>\n",
       "      <th>145</th>\n",
       "      <td>146</td>\n",
       "      <td>Metal Gear Solid</td>\n",
       "      <td>PS</td>\n",
       "      <td>1998.0</td>\n",
       "      <td>Action</td>\n",
       "      <td>Konami Digital Entertainment</td>\n",
       "      <td>3.18</td>\n",
       "      <td>1.83</td>\n",
       "      <td>0.78</td>\n",
       "      <td>0.24</td>\n",
       "      <td>6.03</td>\n",
       "    </tr>\n",
       "    <tr>\n",
       "      <th>146</th>\n",
       "      <td>147</td>\n",
       "      <td>The Last of Us</td>\n",
       "      <td>PS3</td>\n",
       "      <td>2013.0</td>\n",
       "      <td>Action</td>\n",
       "      <td>Sony Computer Entertainment Europe</td>\n",
       "      <td>2.41</td>\n",
       "      <td>2.28</td>\n",
       "      <td>0.28</td>\n",
       "      <td>1.01</td>\n",
       "      <td>5.99</td>\n",
       "    </tr>\n",
       "    <tr>\n",
       "      <th>147</th>\n",
       "      <td>148</td>\n",
       "      <td>Final Fantasy XII</td>\n",
       "      <td>PS2</td>\n",
       "      <td>2006.0</td>\n",
       "      <td>Role-Playing</td>\n",
       "      <td>Square Enix</td>\n",
       "      <td>1.88</td>\n",
       "      <td>0.00</td>\n",
       "      <td>2.33</td>\n",
       "      <td>1.74</td>\n",
       "      <td>5.95</td>\n",
       "    </tr>\n",
       "    <tr>\n",
       "      <th>148</th>\n",
       "      <td>149</td>\n",
       "      <td>LittleBigPlanet</td>\n",
       "      <td>PS3</td>\n",
       "      <td>2008.0</td>\n",
       "      <td>Platform</td>\n",
       "      <td>Sony Computer Entertainment</td>\n",
       "      <td>2.80</td>\n",
       "      <td>2.05</td>\n",
       "      <td>0.17</td>\n",
       "      <td>0.90</td>\n",
       "      <td>5.92</td>\n",
       "    </tr>\n",
       "    <tr>\n",
       "      <th>149</th>\n",
       "      <td>150</td>\n",
       "      <td>Dragon Quest IX: Sentinels of the Starry Skies</td>\n",
       "      <td>DS</td>\n",
       "      <td>2009.0</td>\n",
       "      <td>Role-Playing</td>\n",
       "      <td>Nintendo</td>\n",
       "      <td>0.66</td>\n",
       "      <td>0.69</td>\n",
       "      <td>4.35</td>\n",
       "      <td>0.15</td>\n",
       "      <td>5.84</td>\n",
       "    </tr>\n",
       "  </tbody>\n",
       "</table>\n",
       "<p>150 rows × 11 columns</p>\n",
       "</div>"
      ],
      "text/plain": [
       "     Rank                                            Name Platform    Year  \\\n",
       "0       1                                      Wii Sports      Wii  2006.0   \n",
       "1       2                               Super Mario Bros.      NES  1985.0   \n",
       "2       3                                  Mario Kart Wii      Wii  2008.0   \n",
       "3       4                               Wii Sports Resort      Wii  2009.0   \n",
       "4       5                        Pokemon Red/Pokemon Blue       GB  1996.0   \n",
       "..    ...                                             ...      ...     ...   \n",
       "145   146                                Metal Gear Solid       PS  1998.0   \n",
       "146   147                                  The Last of Us      PS3  2013.0   \n",
       "147   148                               Final Fantasy XII      PS2  2006.0   \n",
       "148   149                                 LittleBigPlanet      PS3  2008.0   \n",
       "149   150  Dragon Quest IX: Sentinels of the Starry Skies       DS  2009.0   \n",
       "\n",
       "            Genre                           Publisher  NA_Sales  EU_Sales  \\\n",
       "0          Sports                            Nintendo     41.49     29.02   \n",
       "1        Platform                            Nintendo     29.08      3.58   \n",
       "2          Racing                            Nintendo     15.85     12.88   \n",
       "3          Sports                            Nintendo     15.75     11.01   \n",
       "4    Role-Playing                            Nintendo     11.27      8.89   \n",
       "..            ...                                 ...       ...       ...   \n",
       "145        Action        Konami Digital Entertainment      3.18      1.83   \n",
       "146        Action  Sony Computer Entertainment Europe      2.41      2.28   \n",
       "147  Role-Playing                         Square Enix      1.88      0.00   \n",
       "148      Platform         Sony Computer Entertainment      2.80      2.05   \n",
       "149  Role-Playing                            Nintendo      0.66      0.69   \n",
       "\n",
       "     JP_Sales  Other_Sales  Global_Sales  \n",
       "0        3.77         8.46         82.74  \n",
       "1        6.81         0.77         40.24  \n",
       "2        3.79         3.31         35.82  \n",
       "3        3.28         2.96         33.00  \n",
       "4       10.22         1.00         31.37  \n",
       "..        ...          ...           ...  \n",
       "145      0.78         0.24          6.03  \n",
       "146      0.28         1.01          5.99  \n",
       "147      2.33         1.74          5.95  \n",
       "148      0.17         0.90          5.92  \n",
       "149      4.35         0.15          5.84  \n",
       "\n",
       "[150 rows x 11 columns]"
      ]
     },
     "execution_count": 148,
     "metadata": {
      "tags": []
     },
     "output_type": "execute_result"
    }
   ],
   "source": [
    "top_150_df"
   ]
  },
  {
   "cell_type": "markdown",
   "metadata": {
    "id": "7eGqpcMsAWFE"
   },
   "source": [
    "Now we check again if we have some Nan values:"
   ]
  },
  {
   "cell_type": "code",
   "execution_count": null,
   "metadata": {
    "id": "OqfHWPP2AWFF",
    "outputId": "ed0a291f-c474-4213-9f42-757902319ec5"
   },
   "outputs": [
    {
     "data": {
      "text/plain": [
       "0"
      ]
     },
     "execution_count": 149,
     "metadata": {
      "tags": []
     },
     "output_type": "execute_result"
    }
   ],
   "source": [
    "top_150_df.Year.isna().sum()"
   ]
  },
  {
   "cell_type": "code",
   "execution_count": null,
   "metadata": {
    "id": "PIXDjAusAWFH",
    "outputId": "be6696d1-a678-420f-afc9-d20e079df4aa"
   },
   "outputs": [
    {
     "data": {
      "text/plain": [
       "0"
      ]
     },
     "execution_count": 150,
     "metadata": {
      "tags": []
     },
     "output_type": "execute_result"
    }
   ],
   "source": [
    "top_150_df.Publisher.isna().sum()"
   ]
  },
  {
   "cell_type": "markdown",
   "metadata": {
    "id": "MqcsufGBAWFI"
   },
   "source": [
    "That works for our data cleaning proccess :-)"
   ]
  },
  {
   "cell_type": "code",
   "execution_count": null,
   "metadata": {
    "id": "WB-GGu7DAWFI",
    "outputId": "76d77bfc-70c1-4654-8f37-b996bc026446"
   },
   "outputs": [
    {
     "name": "stdout",
     "output_type": "stream",
     "text": [
      "<class 'pandas.core.frame.DataFrame'>\n",
      "RangeIndex: 150 entries, 0 to 149\n",
      "Data columns (total 11 columns):\n",
      " #   Column        Non-Null Count  Dtype  \n",
      "---  ------        --------------  -----  \n",
      " 0   Rank          150 non-null    int64  \n",
      " 1   Name          150 non-null    object \n",
      " 2   Platform      150 non-null    object \n",
      " 3   Year          150 non-null    float64\n",
      " 4   Genre         150 non-null    object \n",
      " 5   Publisher     150 non-null    object \n",
      " 6   NA_Sales      150 non-null    float64\n",
      " 7   EU_Sales      150 non-null    float64\n",
      " 8   JP_Sales      150 non-null    float64\n",
      " 9   Other_Sales   150 non-null    float64\n",
      " 10  Global_Sales  150 non-null    float64\n",
      "dtypes: float64(6), int64(1), object(4)\n",
      "memory usage: 13.0+ KB\n"
     ]
    }
   ],
   "source": [
    "top_150_df.info()"
   ]
  },
  {
   "cell_type": "markdown",
   "metadata": {
    "id": "4qh_ghnNAWFK"
   },
   "source": [
    "Some basic rows and columns info about our top 150 data frame."
   ]
  },
  {
   "cell_type": "code",
   "execution_count": null,
   "metadata": {
    "id": "-G0jLi9_AWFK"
   },
   "outputs": [],
   "source": [
    "import jovian"
   ]
  },
  {
   "cell_type": "code",
   "execution_count": null,
   "metadata": {
    "id": "-pIRxiHjAWFM",
    "outputId": "63b61b34-6640-4aaa-9189-c0a7ba981b9c"
   },
   "outputs": [
    {
     "data": {
      "application/javascript": [
       "window.require && require([\"base/js/namespace\"],function(Jupyter){Jupyter.notebook.save_checkpoint()})"
      ],
      "text/plain": [
       "<IPython.core.display.Javascript object>"
      ]
     },
     "metadata": {
      "tags": []
     },
     "output_type": "display_data"
    },
    {
     "name": "stdout",
     "output_type": "stream",
     "text": [
      "[jovian] Attempting to save notebook..\u001b[0m\n",
      "[jovian] Updating notebook \"alejoso76/videogames-data-course-project\" on https://jovian.ml/\u001b[0m\n",
      "[jovian] Uploading notebook..\u001b[0m\n",
      "[jovian] Capturing environment..\u001b[0m\n",
      "[jovian] Committed successfully! https://jovian.ml/alejoso76/videogames-data-course-project\u001b[0m\n"
     ]
    },
    {
     "data": {
      "text/plain": [
       "'https://jovian.ml/alejoso76/videogames-data-course-project'"
      ]
     },
     "execution_count": 164,
     "metadata": {
      "tags": []
     },
     "output_type": "execute_result"
    }
   ],
   "source": [
    "jovian.commit(project=project_name)"
   ]
  },
  {
   "cell_type": "markdown",
   "metadata": {
    "id": "gjpzvQtzAWFO"
   },
   "source": [
    "\n",
    "\n",
    "## Exploratory Analysis and Visualization\n",
    "\n",
    "TODO"
   ]
  },
  {
   "cell_type": "markdown",
   "metadata": {
    "id": "JosYWmJGAWFO"
   },
   "source": [
    "For the numeric columns, we can view statistical information like: Mean, standard deviation, minimum/maximum values and number of non-empty values."
   ]
  },
  {
   "cell_type": "markdown",
   "metadata": {
    "id": "pjftj7p6AWFO"
   },
   "source": [
    "From the full data frame:"
   ]
  },
  {
   "cell_type": "code",
   "execution_count": null,
   "metadata": {
    "id": "ylYNs3ghAWFP",
    "outputId": "bcf179ab-c9c7-469d-c33e-3721b65c33ed"
   },
   "outputs": [
    {
     "data": {
      "text/html": [
       "<div>\n",
       "<style scoped>\n",
       "    .dataframe tbody tr th:only-of-type {\n",
       "        vertical-align: middle;\n",
       "    }\n",
       "\n",
       "    .dataframe tbody tr th {\n",
       "        vertical-align: top;\n",
       "    }\n",
       "\n",
       "    .dataframe thead th {\n",
       "        text-align: right;\n",
       "    }\n",
       "</style>\n",
       "<table border=\"1\" class=\"dataframe\">\n",
       "  <thead>\n",
       "    <tr style=\"text-align: right;\">\n",
       "      <th></th>\n",
       "      <th>Rank</th>\n",
       "      <th>Year</th>\n",
       "      <th>NA_Sales</th>\n",
       "      <th>EU_Sales</th>\n",
       "      <th>JP_Sales</th>\n",
       "      <th>Other_Sales</th>\n",
       "      <th>Global_Sales</th>\n",
       "    </tr>\n",
       "  </thead>\n",
       "  <tbody>\n",
       "    <tr>\n",
       "      <th>count</th>\n",
       "      <td>16598.000000</td>\n",
       "      <td>16327.000000</td>\n",
       "      <td>16598.000000</td>\n",
       "      <td>16598.000000</td>\n",
       "      <td>16598.000000</td>\n",
       "      <td>16598.000000</td>\n",
       "      <td>16598.000000</td>\n",
       "    </tr>\n",
       "    <tr>\n",
       "      <th>mean</th>\n",
       "      <td>8300.605254</td>\n",
       "      <td>2006.406443</td>\n",
       "      <td>0.264667</td>\n",
       "      <td>0.146652</td>\n",
       "      <td>0.077782</td>\n",
       "      <td>0.048063</td>\n",
       "      <td>0.537441</td>\n",
       "    </tr>\n",
       "    <tr>\n",
       "      <th>std</th>\n",
       "      <td>4791.853933</td>\n",
       "      <td>5.828981</td>\n",
       "      <td>0.816683</td>\n",
       "      <td>0.505351</td>\n",
       "      <td>0.309291</td>\n",
       "      <td>0.188588</td>\n",
       "      <td>1.555028</td>\n",
       "    </tr>\n",
       "    <tr>\n",
       "      <th>min</th>\n",
       "      <td>1.000000</td>\n",
       "      <td>1980.000000</td>\n",
       "      <td>0.000000</td>\n",
       "      <td>0.000000</td>\n",
       "      <td>0.000000</td>\n",
       "      <td>0.000000</td>\n",
       "      <td>0.010000</td>\n",
       "    </tr>\n",
       "    <tr>\n",
       "      <th>25%</th>\n",
       "      <td>4151.250000</td>\n",
       "      <td>2003.000000</td>\n",
       "      <td>0.000000</td>\n",
       "      <td>0.000000</td>\n",
       "      <td>0.000000</td>\n",
       "      <td>0.000000</td>\n",
       "      <td>0.060000</td>\n",
       "    </tr>\n",
       "    <tr>\n",
       "      <th>50%</th>\n",
       "      <td>8300.500000</td>\n",
       "      <td>2007.000000</td>\n",
       "      <td>0.080000</td>\n",
       "      <td>0.020000</td>\n",
       "      <td>0.000000</td>\n",
       "      <td>0.010000</td>\n",
       "      <td>0.170000</td>\n",
       "    </tr>\n",
       "    <tr>\n",
       "      <th>75%</th>\n",
       "      <td>12449.750000</td>\n",
       "      <td>2010.000000</td>\n",
       "      <td>0.240000</td>\n",
       "      <td>0.110000</td>\n",
       "      <td>0.040000</td>\n",
       "      <td>0.040000</td>\n",
       "      <td>0.470000</td>\n",
       "    </tr>\n",
       "    <tr>\n",
       "      <th>max</th>\n",
       "      <td>16600.000000</td>\n",
       "      <td>2020.000000</td>\n",
       "      <td>41.490000</td>\n",
       "      <td>29.020000</td>\n",
       "      <td>10.220000</td>\n",
       "      <td>10.570000</td>\n",
       "      <td>82.740000</td>\n",
       "    </tr>\n",
       "  </tbody>\n",
       "</table>\n",
       "</div>"
      ],
      "text/plain": [
       "               Rank          Year      NA_Sales      EU_Sales      JP_Sales  \\\n",
       "count  16598.000000  16327.000000  16598.000000  16598.000000  16598.000000   \n",
       "mean    8300.605254   2006.406443      0.264667      0.146652      0.077782   \n",
       "std     4791.853933      5.828981      0.816683      0.505351      0.309291   \n",
       "min        1.000000   1980.000000      0.000000      0.000000      0.000000   \n",
       "25%     4151.250000   2003.000000      0.000000      0.000000      0.000000   \n",
       "50%     8300.500000   2007.000000      0.080000      0.020000      0.000000   \n",
       "75%    12449.750000   2010.000000      0.240000      0.110000      0.040000   \n",
       "max    16600.000000   2020.000000     41.490000     29.020000     10.220000   \n",
       "\n",
       "        Other_Sales  Global_Sales  \n",
       "count  16598.000000  16598.000000  \n",
       "mean       0.048063      0.537441  \n",
       "std        0.188588      1.555028  \n",
       "min        0.000000      0.010000  \n",
       "25%        0.000000      0.060000  \n",
       "50%        0.010000      0.170000  \n",
       "75%        0.040000      0.470000  \n",
       "max       10.570000     82.740000  "
      ]
     },
     "execution_count": 155,
     "metadata": {
      "tags": []
     },
     "output_type": "execute_result"
    }
   ],
   "source": [
    "videogames_sales_df.describe()"
   ]
  },
  {
   "cell_type": "markdown",
   "metadata": {
    "id": "fvR_sFXeAWFQ"
   },
   "source": [
    "And from our top 150 games data frame:"
   ]
  },
  {
   "cell_type": "code",
   "execution_count": null,
   "metadata": {
    "id": "z9muZf-MAWFR",
    "outputId": "16f756b4-bec2-4140-fa9b-c1e286b35f8d",
    "scrolled": true
   },
   "outputs": [
    {
     "data": {
      "text/html": [
       "<div>\n",
       "<style scoped>\n",
       "    .dataframe tbody tr th:only-of-type {\n",
       "        vertical-align: middle;\n",
       "    }\n",
       "\n",
       "    .dataframe tbody tr th {\n",
       "        vertical-align: top;\n",
       "    }\n",
       "\n",
       "    .dataframe thead th {\n",
       "        text-align: right;\n",
       "    }\n",
       "</style>\n",
       "<table border=\"1\" class=\"dataframe\">\n",
       "  <thead>\n",
       "    <tr style=\"text-align: right;\">\n",
       "      <th></th>\n",
       "      <th>Rank</th>\n",
       "      <th>Year</th>\n",
       "      <th>NA_Sales</th>\n",
       "      <th>EU_Sales</th>\n",
       "      <th>JP_Sales</th>\n",
       "      <th>Other_Sales</th>\n",
       "      <th>Global_Sales</th>\n",
       "    </tr>\n",
       "  </thead>\n",
       "  <tbody>\n",
       "    <tr>\n",
       "      <th>count</th>\n",
       "      <td>150.000000</td>\n",
       "      <td>150.000000</td>\n",
       "      <td>150.000000</td>\n",
       "      <td>150.000000</td>\n",
       "      <td>150.000000</td>\n",
       "      <td>150.000000</td>\n",
       "      <td>150.00000</td>\n",
       "    </tr>\n",
       "    <tr>\n",
       "      <th>mean</th>\n",
       "      <td>75.500000</td>\n",
       "      <td>2005.300000</td>\n",
       "      <td>5.708867</td>\n",
       "      <td>3.543267</td>\n",
       "      <td>1.587200</td>\n",
       "      <td>1.103333</td>\n",
       "      <td>11.94240</td>\n",
       "    </tr>\n",
       "    <tr>\n",
       "      <th>std</th>\n",
       "      <td>43.445368</td>\n",
       "      <td>7.391951</td>\n",
       "      <td>5.188504</td>\n",
       "      <td>3.072281</td>\n",
       "      <td>1.861846</td>\n",
       "      <td>1.330852</td>\n",
       "      <td>8.94899</td>\n",
       "    </tr>\n",
       "    <tr>\n",
       "      <th>min</th>\n",
       "      <td>1.000000</td>\n",
       "      <td>1982.000000</td>\n",
       "      <td>0.070000</td>\n",
       "      <td>0.000000</td>\n",
       "      <td>0.000000</td>\n",
       "      <td>0.000000</td>\n",
       "      <td>5.84000</td>\n",
       "    </tr>\n",
       "    <tr>\n",
       "      <th>25%</th>\n",
       "      <td>38.250000</td>\n",
       "      <td>2001.000000</td>\n",
       "      <td>3.010000</td>\n",
       "      <td>1.972500</td>\n",
       "      <td>0.130000</td>\n",
       "      <td>0.475000</td>\n",
       "      <td>6.90250</td>\n",
       "    </tr>\n",
       "    <tr>\n",
       "      <th>50%</th>\n",
       "      <td>75.500000</td>\n",
       "      <td>2007.000000</td>\n",
       "      <td>4.285000</td>\n",
       "      <td>2.800000</td>\n",
       "      <td>0.850000</td>\n",
       "      <td>0.780000</td>\n",
       "      <td>8.93000</td>\n",
       "    </tr>\n",
       "    <tr>\n",
       "      <th>75%</th>\n",
       "      <td>112.750000</td>\n",
       "      <td>2011.000000</td>\n",
       "      <td>6.577500</td>\n",
       "      <td>4.015000</td>\n",
       "      <td>2.667500</td>\n",
       "      <td>1.252500</td>\n",
       "      <td>13.37000</td>\n",
       "    </tr>\n",
       "    <tr>\n",
       "      <th>max</th>\n",
       "      <td>150.000000</td>\n",
       "      <td>2015.000000</td>\n",
       "      <td>41.490000</td>\n",
       "      <td>29.020000</td>\n",
       "      <td>10.220000</td>\n",
       "      <td>10.570000</td>\n",
       "      <td>82.74000</td>\n",
       "    </tr>\n",
       "  </tbody>\n",
       "</table>\n",
       "</div>"
      ],
      "text/plain": [
       "             Rank         Year    NA_Sales    EU_Sales    JP_Sales  \\\n",
       "count  150.000000   150.000000  150.000000  150.000000  150.000000   \n",
       "mean    75.500000  2005.300000    5.708867    3.543267    1.587200   \n",
       "std     43.445368     7.391951    5.188504    3.072281    1.861846   \n",
       "min      1.000000  1982.000000    0.070000    0.000000    0.000000   \n",
       "25%     38.250000  2001.000000    3.010000    1.972500    0.130000   \n",
       "50%     75.500000  2007.000000    4.285000    2.800000    0.850000   \n",
       "75%    112.750000  2011.000000    6.577500    4.015000    2.667500   \n",
       "max    150.000000  2015.000000   41.490000   29.020000   10.220000   \n",
       "\n",
       "       Other_Sales  Global_Sales  \n",
       "count   150.000000     150.00000  \n",
       "mean      1.103333      11.94240  \n",
       "std       1.330852       8.94899  \n",
       "min       0.000000       5.84000  \n",
       "25%       0.475000       6.90250  \n",
       "50%       0.780000       8.93000  \n",
       "75%       1.252500      13.37000  \n",
       "max      10.570000      82.74000  "
      ]
     },
     "execution_count": 156,
     "metadata": {
      "tags": []
     },
     "output_type": "execute_result"
    }
   ],
   "source": [
    "top_150_df.describe()"
   ]
  },
  {
   "cell_type": "code",
   "execution_count": null,
   "metadata": {
    "id": "_TVLRq5tAWFT"
   },
   "outputs": [],
   "source": [
    "import jovian"
   ]
  },
  {
   "cell_type": "code",
   "execution_count": null,
   "metadata": {
    "id": "MN3GZtNyAWFU",
    "outputId": "a117036d-64df-4573-8dd4-adbd0b0f23fb"
   },
   "outputs": [
    {
     "data": {
      "application/javascript": [
       "window.require && require([\"base/js/namespace\"],function(Jupyter){Jupyter.notebook.save_checkpoint()})"
      ],
      "text/plain": [
       "<IPython.core.display.Javascript object>"
      ]
     },
     "metadata": {
      "tags": []
     },
     "output_type": "display_data"
    },
    {
     "name": "stdout",
     "output_type": "stream",
     "text": [
      "[jovian] Attempting to save notebook..\u001b[0m\n",
      "[jovian] Updating notebook \"alejoso76/videogames-data-course-project\" on https://jovian.ml/\u001b[0m\n",
      "[jovian] Uploading notebook..\u001b[0m\n",
      "[jovian] Capturing environment..\u001b[0m\n",
      "[jovian] Committed successfully! https://jovian.ml/alejoso76/videogames-data-course-project\u001b[0m\n"
     ]
    },
    {
     "data": {
      "text/plain": [
       "'https://jovian.ml/alejoso76/videogames-data-course-project'"
      ]
     },
     "execution_count": 166,
     "metadata": {
      "tags": []
     },
     "output_type": "execute_result"
    }
   ],
   "source": [
    "jovian.commit()"
   ]
  },
  {
   "cell_type": "markdown",
   "metadata": {
    "id": "rs9PdQrYAWFX"
   },
   "source": [
    "## Visualization with plots"
   ]
  },
  {
   "cell_type": "code",
   "execution_count": 11,
   "metadata": {
    "executionInfo": {
     "elapsed": 827,
     "status": "ok",
     "timestamp": 1601654057226,
     "user": {
      "displayName": "Alejandro Osorio Trujillo",
      "photoUrl": "https://lh3.googleusercontent.com/a-/AOh14GiPqGgNrS3efyTrNqPfi_AxVdgwDkM84wfhYCXuMw=s64",
      "userId": "13505825192954560646"
     },
     "user_tz": 300
    },
    "id": "3Jf9K19DAWFX"
   },
   "outputs": [],
   "source": [
    "import matplotlib.pyplot as plt\n",
    "import seaborn as sns\n",
    "%matplotlib inline"
   ]
  },
  {
   "cell_type": "markdown",
   "metadata": {
    "id": "Aj1Lc_E7Dmd4"
   },
   "source": [
    "Now, I want to see the distribution of the Global, North America, Europe, Japan and Other sales."
   ]
  },
  {
   "cell_type": "code",
   "execution_count": 58,
   "metadata": {
    "colab": {
     "base_uri": "https://localhost:8080/",
     "height": 654
    },
    "executionInfo": {
     "elapsed": 2943,
     "status": "ok",
     "timestamp": 1601655769461,
     "user": {
      "displayName": "Alejandro Osorio Trujillo",
      "photoUrl": "https://lh3.googleusercontent.com/a-/AOh14GiPqGgNrS3efyTrNqPfi_AxVdgwDkM84wfhYCXuMw=s64",
      "userId": "13505825192954560646"
     },
     "user_tz": 300
    },
    "id": "goRmezsYCrz1",
    "outputId": "09ba5495-9696-417b-e533-79a736258a78"
   },
   "outputs": [
    {
     "data": {
      "image/png": "[encoded data removed]",
      "text/plain": [
       "<Figure size 1152x576 with 6 Axes>"
      ]
     },
     "metadata": {
      "tags": []
     },
     "output_type": "display_data"
    }
   ],
   "source": [
    "fig, axes = plt.subplots(2, 3, figsize=(16, 8))\n",
    "fig.subplots_adjust(top=3.0, bottom=2.0)\n",
    "\n",
    "axes[0,0].set_title('Top 150 Global Sales')\n",
    "axes[0,0].set_xlabel('Sales (In millions)')\n",
    "axes[0,0].hist(top_150_df.Global_Sales)\n",
    "\n",
    "axes[0,1].set_title('Top 150 NA Sales')\n",
    "axes[0,1].set_xlabel('Sales (In millions)')\n",
    "axes[0,1].hist(top_150_df.NA_Sales)\n",
    "\n",
    "axes[0,2].set_title('Top 150 Europe Sales')\n",
    "axes[0,2].set_xlabel('Sales (In millions)')\n",
    "axes[0,2].hist(top_150_df.EU_Sales)\n",
    "\n",
    "axes[1,0].set_title('Top 150 Japan Sales')\n",
    "axes[1,0].set_xlabel('Sales (In millions)')\n",
    "axes[1,0].hist(top_150_df.JP_Sales)\n",
    "\n",
    "axes[1,1].set_title('Top 150 Other Sales')\n",
    "axes[1,1].set_xlabel('Sales (In millions)')\n",
    "axes[1,1].hist(top_150_df.Other_Sales)\n",
    "\n",
    "axes[1,2].set_title('Top 150 Sales comparisson')\n",
    "axes[1,2].hist([top_150_df.Global_Sales, top_150_df.NA_Sales, top_150_df.EU_Sales, top_150_df.JP_Sales, top_150_df.Other_Sales], \n",
    "         stacked=True);\n",
    "axes[1,2].legend(['Global', 'NA', 'EU', 'JP', 'Other']);"
   ]
  },
  {
   "cell_type": "markdown",
   "metadata": {
    "id": "pQsnpwumAWFf"
   },
   "source": [
    "## Asking and Answering Questions\n",
    "\n",
    "1. How is the distribution of games genres on the top 150 games?\n",
    "2. Which are the most used Platforms in the top 150 games?\n",
    "3. What are the top 5 games Genre in the top 150 of sales?\n",
    "4. What is the top selling game for every year in the top 150?\n",
    "5. Which region has the most sold games among the top 10 most sold games?\n"
   ]
  },
  {
   "cell_type": "markdown",
   "metadata": {
    "id": "K6hHPgYLAWFf"
   },
   "source": [
    "### Question 1\n",
    "I want to know is the distribution of games genres on the top 150 games using a bar plot."
   ]
  },
  {
   "cell_type": "code",
   "execution_count": null,
   "metadata": {
    "id": "KUJjFebgAWFg"
   },
   "outputs": [],
   "source": [
    "genre_top_150_df = top_150_df.Genre"
   ]
  },
  {
   "cell_type": "code",
   "execution_count": null,
   "metadata": {
    "id": "qHgM_L_fAWFj",
    "outputId": "07cc1ba0-f52c-49bc-f0fb-5533008a80b5"
   },
   "outputs": [
    {
     "data": {
      "text/plain": [
       "0            Sports\n",
       "1          Platform\n",
       "2            Racing\n",
       "3            Sports\n",
       "4      Role-Playing\n",
       "           ...     \n",
       "145          Action\n",
       "146          Action\n",
       "147    Role-Playing\n",
       "148        Platform\n",
       "149    Role-Playing\n",
       "Name: Genre, Length: 150, dtype: object"
      ]
     },
     "execution_count": 280,
     "metadata": {
      "tags": []
     },
     "output_type": "execute_result"
    }
   ],
   "source": [
    "genre_top_150_df"
   ]
  },
  {
   "cell_type": "code",
   "execution_count": 112,
   "metadata": {
    "executionInfo": {
     "elapsed": 1379,
     "status": "ok",
     "timestamp": 1601659592704,
     "user": {
      "displayName": "Alejandro Osorio Trujillo",
      "photoUrl": "https://lh3.googleusercontent.com/a-/AOh14GiPqGgNrS3efyTrNqPfi_AxVdgwDkM84wfhYCXuMw=s64",
      "userId": "13505825192954560646"
     },
     "user_tz": 300
    },
    "id": "ZvCADl4NAWFl"
   },
   "outputs": [],
   "source": [
    "genre_top_150_df = top_150_df.groupby(['Genre']).count()"
   ]
  },
  {
   "cell_type": "code",
   "execution_count": null,
   "metadata": {
    "id": "4w8KjwGoAWFn",
    "outputId": "0660ba8b-1b01-4c39-9ffb-e160cfa133bf"
   },
   "outputs": [
    {
     "data": {
      "image/png": "[encoded data removed]",
      "text/plain": [
       "<Figure size 1080x432 with 1 Axes>"
      ]
     },
     "metadata": {
      "tags": []
     },
     "output_type": "display_data"
    }
   ],
   "source": [
    "sns.set_style(\"darkgrid\")\n",
    "plt.figure(figsize=(15, 6))\n",
    "plt.title(\"Genres of Games in the Top 150 of Sales\")\n",
    "plt.xlabel('Genre')\n",
    "plt.ylabel('Frequency')\n",
    "plt.bar(genre_top_150_df.index, genre_top_150_df.Rank);"
   ]
  },
  {
   "cell_type": "markdown",
   "metadata": {
    "id": "a8NyXCTLN9fK"
   },
   "source": [
    "## Question 2\n",
    "I want to know which are the most used Platforms in the top 150 games."
   ]
  },
  {
   "cell_type": "code",
   "execution_count": 90,
   "metadata": {
    "colab": {
     "base_uri": "https://localhost:8080/",
     "height": 408
    },
    "executionInfo": {
     "elapsed": 785,
     "status": "ok",
     "timestamp": 1601658079661,
     "user": {
      "displayName": "Alejandro Osorio Trujillo",
      "photoUrl": "https://lh3.googleusercontent.com/a-/AOh14GiPqGgNrS3efyTrNqPfi_AxVdgwDkM84wfhYCXuMw=s64",
      "userId": "13505825192954560646"
     },
     "user_tz": 300
    },
    "id": "3rvnuuslAWFp",
    "outputId": "cc4965c1-3389-4a12-bf75-4dc41450c955"
   },
   "outputs": [
    {
     "data": {
      "text/plain": [
       "Platform\n",
       "2600     1\n",
       "3DS      7\n",
       "DS      15\n",
       "GB       7\n",
       "GBA      3\n",
       "GC       3\n",
       "GEN      1\n",
       "N64      4\n",
       "NES      5\n",
       "PC       2\n",
       "PS      10\n",
       "PS2     12\n",
       "PS3     21\n",
       "PS4      7\n",
       "PSP      1\n",
       "SNES     5\n",
       "Wii     20\n",
       "WiiU     1\n",
       "X360    22\n",
       "XB       2\n",
       "XOne     1\n",
       "Name: Platform, dtype: int64"
      ]
     },
     "execution_count": 90,
     "metadata": {
      "tags": []
     },
     "output_type": "execute_result"
    }
   ],
   "source": [
    "top_150_df.groupby('Platform')['Platform'].count()"
   ]
  },
  {
   "cell_type": "markdown",
   "metadata": {
    "id": "zKbFgNfHQu8Q"
   },
   "source": [
    "Meaning that the Xbox 360 has the most games on the top 150,followed by the PS3."
   ]
  },
  {
   "cell_type": "markdown",
   "metadata": {
    "id": "WRg44nlmO7T1"
   },
   "source": [
    "## Question 3\n",
    "I want to know which are the top 5 games Genre in the top 150 of sales."
   ]
  },
  {
   "cell_type": "code",
   "execution_count": 94,
   "metadata": {
    "colab": {
     "base_uri": "https://localhost:8080/",
     "height": 136
    },
    "executionInfo": {
     "elapsed": 873,
     "status": "ok",
     "timestamp": 1601658443569,
     "user": {
      "displayName": "Alejandro Osorio Trujillo",
      "photoUrl": "https://lh3.googleusercontent.com/a-/AOh14GiPqGgNrS3efyTrNqPfi_AxVdgwDkM84wfhYCXuMw=s64",
      "userId": "13505825192954560646"
     },
     "user_tz": 300
    },
    "id": "J6XuWKPzO76L",
    "outputId": "33b00327-14ca-4571-90c5-c505dcea02c6"
   },
   "outputs": [
    {
     "data": {
      "text/plain": [
       "Genre\n",
       "Action       24\n",
       "Adventure     1\n",
       "Fighting      5\n",
       "Misc         12\n",
       "Platform     22\n",
       "Name: Genre, dtype: int64"
      ]
     },
     "execution_count": 94,
     "metadata": {
      "tags": []
     },
     "output_type": "execute_result"
    }
   ],
   "source": [
    "top_150_df.groupby('Genre')['Genre'].count().head(5)"
   ]
  },
  {
   "cell_type": "markdown",
   "metadata": {
    "id": "MD9HpWC8PEI5"
   },
   "source": [
    "## Question 4\n",
    "I want to know what is the top selling game for every year in the top 150."
   ]
  },
  {
   "cell_type": "code",
   "execution_count": 87,
   "metadata": {
    "colab": {
     "base_uri": "https://localhost:8080/",
     "height": 561
    },
    "executionInfo": {
     "elapsed": 1098,
     "status": "ok",
     "timestamp": 1601657891541,
     "user": {
      "displayName": "Alejandro Osorio Trujillo",
      "photoUrl": "https://lh3.googleusercontent.com/a-/AOh14GiPqGgNrS3efyTrNqPfi_AxVdgwDkM84wfhYCXuMw=s64",
      "userId": "13505825192954560646"
     },
     "user_tz": 300
    },
    "id": "_69rbqg6PDdb",
    "outputId": "ec3b995d-b81f-492f-f5dc-398a94cb58fd"
   },
   "outputs": [
    {
     "data": {
      "text/plain": [
       "Year\n",
       "1982.0                                 Pac-Man\n",
       "1984.0                               Duck Hunt\n",
       "1985.0                       Super Mario Bros.\n",
       "1986.0                     The Legend of Zelda\n",
       "1988.0                     Super Mario Bros. 3\n",
       "1989.0                                  Tetris\n",
       "1990.0                       Super Mario World\n",
       "1992.0      Super Mario Land 2: 6 Golden Coins\n",
       "1993.0                   Super Mario All-Stars\n",
       "1994.0                     Donkey Kong Country\n",
       "1996.0                          Super Mario 64\n",
       "1997.0                            Gran Turismo\n",
       "1998.0    The Legend of Zelda: Ocarina of Time\n",
       "1999.0             Pokemon Gold/Pokemon Silver\n",
       "2000.0                 Pokémon Crystal Version\n",
       "2001.0                 Super Smash Bros. Melee\n",
       "2002.0                    Super Mario Sunshine\n",
       "2003.0              Need for Speed Underground\n",
       "2004.0                       World of Warcraft\n",
       "2005.0                              Nintendogs\n",
       "2006.0                              Wii Sports\n",
       "2007.0                                 Wii Fit\n",
       "2008.0                 Super Smash Bros. Brawl\n",
       "2009.0                       Wii Sports Resort\n",
       "2010.0                           Zumba Fitness\n",
       "2011.0          Uncharted 3: Drake's Deception\n",
       "2012.0         Pokemon Black 2/Pokemon White 2\n",
       "2013.0                          The Last of Us\n",
       "2014.0     Super Smash Bros. for Wii U and 3DS\n",
       "2015.0            Star Wars Battlefront (2015)\n",
       "Name: Name, dtype: object"
      ]
     },
     "execution_count": 87,
     "metadata": {
      "tags": []
     },
     "output_type": "execute_result"
    }
   ],
   "source": [
    "top_150_df.groupby('Year')['Name'].max('Global_Sales')"
   ]
  },
  {
   "cell_type": "markdown",
   "metadata": {
    "id": "ILqt72s6TOeH"
   },
   "source": [
    "## Question 5\n",
    "I want to know which region has the most sold games among the top 10 most sold games."
   ]
  },
  {
   "cell_type": "code",
   "execution_count": 97,
   "metadata": {
    "executionInfo": {
     "elapsed": 817,
     "status": "ok",
     "timestamp": 1601658774714,
     "user": {
      "displayName": "Alejandro Osorio Trujillo",
      "photoUrl": "https://lh3.googleusercontent.com/a-/AOh14GiPqGgNrS3efyTrNqPfi_AxVdgwDkM84wfhYCXuMw=s64",
      "userId": "13505825192954560646"
     },
     "user_tz": 300
    },
    "id": "1z7DXvtjTQLW"
   },
   "outputs": [],
   "source": [
    "top_10_df = top_150_df.head(10)"
   ]
  },
  {
   "cell_type": "code",
   "execution_count": 108,
   "metadata": {
    "colab": {
     "base_uri": "https://localhost:8080/",
     "height": 102
    },
    "executionInfo": {
     "elapsed": 821,
     "status": "ok",
     "timestamp": 1601658919689,
     "user": {
      "displayName": "Alejandro Osorio Trujillo",
      "photoUrl": "https://lh3.googleusercontent.com/a-/AOh14GiPqGgNrS3efyTrNqPfi_AxVdgwDkM84wfhYCXuMw=s64",
      "userId": "13505825192954560646"
     },
     "user_tz": 300
    },
    "id": "J1DVSZryTW7z",
    "outputId": "98b7eaf5-6874-4e25-8ac3-dbd48381a968"
   },
   "outputs": [
    {
     "data": {
      "text/plain": [
       "NA_Sales       203.57\n",
       "EU_Sales        93.76\n",
       "JP_Sales        46.50\n",
       "Other_Sales     25.56\n",
       "dtype: float64"
      ]
     },
     "execution_count": 108,
     "metadata": {
      "tags": []
     },
     "output_type": "execute_result"
    }
   ],
   "source": [
    "top_10_df[['NA_Sales', 'EU_Sales', 'JP_Sales', 'Other_Sales']].sum()\n"
   ]
  },
  {
   "cell_type": "code",
   "execution_count": 109,
   "metadata": {
    "colab": {
     "base_uri": "https://localhost:8080/",
     "height": 34
    },
    "executionInfo": {
     "elapsed": 861,
     "status": "ok",
     "timestamp": 1601658933485,
     "user": {
      "displayName": "Alejandro Osorio Trujillo",
      "photoUrl": "https://lh3.googleusercontent.com/a-/AOh14GiPqGgNrS3efyTrNqPfi_AxVdgwDkM84wfhYCXuMw=s64",
      "userId": "13505825192954560646"
     },
     "user_tz": 300
    },
    "id": "M-SrHCwCT7I3",
    "outputId": "d1264c8b-8b67-4cce-b2cc-e76f3f5c6124"
   },
   "outputs": [
    {
     "data": {
      "text/plain": [
       "203.57"
      ]
     },
     "execution_count": 109,
     "metadata": {
      "tags": []
     },
     "output_type": "execute_result"
    }
   ],
   "source": [
    "top_10_df[['NA_Sales', 'EU_Sales', 'JP_Sales', 'Other_Sales']].sum().max()"
   ]
  },
  {
   "cell_type": "markdown",
   "metadata": {
    "id": "_CGiTRn-T-Ni"
   },
   "source": [
    "Meaning that NA has the most sales among all the regions in the top 10 most sold games."
   ]
  },
  {
   "cell_type": "code",
   "execution_count": null,
   "metadata": {
    "id": "4tWBUIJ6AWFu"
   },
   "outputs": [],
   "source": [
    "import jovian"
   ]
  },
  {
   "cell_type": "code",
   "execution_count": 110,
   "metadata": {
    "colab": {
     "base_uri": "https://localhost:8080/",
     "height": 86
    },
    "executionInfo": {
     "elapsed": 2773,
     "status": "ok",
     "timestamp": 1601659284011,
     "user": {
      "displayName": "Alejandro Osorio Trujillo",
      "photoUrl": "https://lh3.googleusercontent.com/a-/AOh14GiPqGgNrS3efyTrNqPfi_AxVdgwDkM84wfhYCXuMw=s64",
      "userId": "13505825192954560646"
     },
     "user_tz": 300
    },
    "id": "uD6VJ4E9AWFx",
    "outputId": "0bd5e775-7abe-4e3b-eafb-a77e0873499c"
   },
   "outputs": [
    {
     "name": "stdout",
     "output_type": "stream",
     "text": [
      "[jovian] Detected Colab notebook...\u001b[0m\n",
      "[jovian] Uploading colab notebook to Jovian...\u001b[0m\n",
      "[jovian] Committed successfully! https://jovian.ml/alejoso76/videogames-data-course-project\u001b[0m\n"
     ]
    },
    {
     "data": {
      "application/vnd.google.colaboratory.intrinsic+json": {
       "type": "string"
      },
      "text/plain": [
       "'https://jovian.ml/alejoso76/videogames-data-course-project'"
      ]
     },
     "execution_count": 110,
     "metadata": {
      "tags": []
     },
     "output_type": "execute_result"
    }
   ],
   "source": [
    "jovian.commit(project=project_name)"
   ]
  },
  {
   "cell_type": "markdown",
   "metadata": {
    "id": "OtX8-PQSAWFz"
   },
   "source": [
    "## Inferences and Conclusion\n",
    "\n",
    "- I learned from this dataset that the Xbox 360 was one of the most succesful consoles because it has 22 games among the top 150 most sold games.\n",
    "- I also learned that North America is the regions that contributes the most to videogames sales.\n",
    "- Wii Sports is the most sold game ever (WOAH!).\n",
    "- Shooter, Action and Role-Playing games are people's favorites.\n",
    "\n"
   ]
  },
  {
   "cell_type": "markdown",
   "metadata": {
    "id": "esBovVyVWVrM"
   },
   "source": [
    "As we can see in the graph, people's choice on gaming genres:"
   ]
  },
  {
   "cell_type": "code",
   "execution_count": 113,
   "metadata": {
    "colab": {
     "base_uri": "https://localhost:8080/",
     "height": 404
    },
    "executionInfo": {
     "elapsed": 916,
     "status": "ok",
     "timestamp": 1601659595820,
     "user": {
      "displayName": "Alejandro Osorio Trujillo",
      "photoUrl": "https://lh3.googleusercontent.com/a-/AOh14GiPqGgNrS3efyTrNqPfi_AxVdgwDkM84wfhYCXuMw=s64",
      "userId": "13505825192954560646"
     },
     "user_tz": 300
    },
    "id": "ESnfnZokAWF0",
    "outputId": "a74eae5f-aa55-465b-ba32-5787944d4123"
   },
   "outputs": [
    {
     "data": {
      "image/png": "[encoded data removed]",
      "text/plain": [
       "<Figure size 1080x432 with 1 Axes>"
      ]
     },
     "metadata": {
      "tags": []
     },
     "output_type": "display_data"
    }
   ],
   "source": [
    "sns.set_style(\"darkgrid\")\n",
    "plt.figure(figsize=(15, 6))\n",
    "plt.title(\"Genres of Games in the Top 150 of Sales\")\n",
    "plt.xlabel('Genre')\n",
    "plt.ylabel('Frequency')\n",
    "plt.bar(genre_top_150_df.index, genre_top_150_df.Rank);"
   ]
  },
  {
   "cell_type": "markdown",
   "metadata": {
    "id": "cNiD9DcRWug2"
   },
   "source": [
    "Also a comparisson between sales worldwide and each region:"
   ]
  },
  {
   "cell_type": "code",
   "execution_count": 115,
   "metadata": {
    "colab": {
     "base_uri": "https://localhost:8080/",
     "height": 281
    },
    "executionInfo": {
     "elapsed": 1146,
     "status": "ok",
     "timestamp": 1601659632749,
     "user": {
      "displayName": "Alejandro Osorio Trujillo",
      "photoUrl": "https://lh3.googleusercontent.com/a-/AOh14GiPqGgNrS3efyTrNqPfi_AxVdgwDkM84wfhYCXuMw=s64",
      "userId": "13505825192954560646"
     },
     "user_tz": 300
    },
    "id": "JuaUv45mAWF1",
    "outputId": "82643dff-df8a-4366-949f-43a7c76c2d2f"
   },
   "outputs": [
    {
     "data": {
      "image/png": "[encoded data removed]",
      "text/plain": [
       "<Figure size 432x288 with 1 Axes>"
      ]
     },
     "metadata": {
      "tags": []
     },
     "output_type": "display_data"
    }
   ],
   "source": [
    "plt.title('Top 150 Sales comparisson')\n",
    "plt.hist([top_150_df.Global_Sales, top_150_df.NA_Sales, top_150_df.EU_Sales, top_150_df.JP_Sales, top_150_df.Other_Sales], \n",
    "         stacked=True);\n",
    "plt.legend(['Global', 'NA', 'EU', 'JP', 'Other']);"
   ]
  },
  {
   "cell_type": "markdown",
   "metadata": {
    "id": "aadjUxL8Wodx"
   },
   "source": []
  },
  {
   "cell_type": "code",
   "execution_count": 78,
   "metadata": {
    "executionInfo": {
     "elapsed": 784,
     "status": "ok",
     "timestamp": 1601657345938,
     "user": {
      "displayName": "Alejandro Osorio Trujillo",
      "photoUrl": "https://lh3.googleusercontent.com/a-/AOh14GiPqGgNrS3efyTrNqPfi_AxVdgwDkM84wfhYCXuMw=s64",
      "userId": "13505825192954560646"
     },
     "user_tz": 300
    },
    "id": "_K75WKMRAWF8"
   },
   "outputs": [],
   "source": [
    "import jovian"
   ]
  },
  {
   "cell_type": "code",
   "execution_count": null,
   "metadata": {
    "id": "UgAiDUPqAWF-",
    "outputId": "27cba479-7f60-4318-ed96-fd88005ae1d8"
   },
   "outputs": [
    {
     "data": {
      "application/javascript": [
       "window.require && require([\"base/js/namespace\"],function(Jupyter){Jupyter.notebook.save_checkpoint()})"
      ],
      "text/plain": [
       "<IPython.core.display.Javascript object>"
      ]
     },
     "metadata": {
      "tags": []
     },
     "output_type": "display_data"
    },
    {
     "name": "stdout",
     "output_type": "stream",
     "text": [
      "[jovian] Attempting to save notebook..\u001b[0m\n",
      "[jovian] Updating notebook \"alejoso76/videogames-data-course-project\" on https://jovian.ml/\u001b[0m\n",
      "[jovian] Uploading notebook..\u001b[0m\n",
      "[jovian] Capturing environment..\u001b[0m\n",
      "[jovian] Committed successfully! https://jovian.ml/alejoso76/videogames-data-course-project\u001b[0m\n"
     ]
    },
    {
     "data": {
      "text/plain": [
       "'https://jovian.ml/alejoso76/videogames-data-course-project'"
      ]
     },
     "execution_count": 284,
     "metadata": {
      "tags": []
     },
     "output_type": "execute_result"
    }
   ],
   "source": [
    "jovian.commit(project=project_name)"
   ]
  },
  {
   "cell_type": "markdown",
   "metadata": {
    "id": "PcQCt_uSAWF_"
   },
   "source": [
    "## References and Future Work\n",
    "As for my future work, I will analyze some data from my favorite game: Rainbow Six Siege. The data I want to check is some [ranked insights](https://www.kaggle.com/maxcobra/rainbow-six-siege-s5-ranked-dataset).\n",
    "All the resources I used are from the [Zero to Pandas Course](https://jovian.ml/learn/data-analysis-with-python-zero-to-pandas).\n",
    "I LOVED DOING THIS COURSE :)\n"
   ]
  },
  {
   "cell_type": "code",
   "execution_count": null,
   "metadata": {
    "id": "MAus0oByAWF_"
   },
   "outputs": [],
   "source": [
    "import jovian"
   ]
  },
  {
   "cell_type": "code",
   "execution_count": null,
   "metadata": {
    "id": "Zr_NRTP7AWGC",
    "outputId": "a1369775-21f6-47e2-a21a-2e9b1ae035e3"
   },
   "outputs": [
    {
     "data": {
      "application/javascript": [
       "window.require && require([\"base/js/namespace\"],function(Jupyter){Jupyter.notebook.save_checkpoint()})"
      ],
      "text/plain": [
       "<IPython.core.display.Javascript object>"
      ]
     },
     "metadata": {
      "tags": []
     },
     "output_type": "display_data"
    },
    {
     "name": "stdout",
     "output_type": "stream",
     "text": [
      "[jovian] Attempting to save notebook..\u001b[0m\n"
     ]
    }
   ],
   "source": [
    "jovian.commit(project=project_name)"
   ]
  },
  {
   "cell_type": "code",
   "execution_count": null,
   "metadata": {
    "id": "54xrW-r0AWGF"
   },
   "outputs": [],
   "source": []
  }
 ],
 "metadata": {
  "colab": {
   "name": "zerotopandas-course-project.ipynb",
   "provenance": []
  },
  "kernelspec": {
   "display_name": "Python 3",
   "language": "python",
   "name": "python3"
  },
  "language_info": {
   "codemirror_mode": {
    "name": "ipython",
    "version": 3
   },
   "file_extension": ".py",
   "mimetype": "text/x-python",
   "name": "python",
   "nbconvert_exporter": "python",
   "pygments_lexer": "ipython3",
   "version": "3.8.5"
  }
 },
 "nbformat": 4,
 "nbformat_minor": 0
}